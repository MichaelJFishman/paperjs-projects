{
 "cells": [
  {
   "cell_type": "markdown",
   "metadata": {},
   "source": [
    "# TODO: Get canvas set up and manipulate it\n",
    "\n",
    "https://jarrodmcclean.com/processing-js-in-an-ipython-notebook/"
   ]
  },
  {
   "cell_type": "code",
   "execution_count": 1,
   "metadata": {},
   "outputs": [
    {
     "data": {
      "text/plain": [
       "6"
      ]
     },
     "execution_count": 1,
     "metadata": {},
     "output_type": "execute_result"
    }
   ],
   "source": [
    "var a = 2;\n",
    "b = a * 3;\n",
    "b"
   ]
  },
  {
   "cell_type": "code",
   "execution_count": 5,
   "metadata": {},
   "outputs": [
    {
     "data": {
      "text/html": [
       "<html>\n",
       "<head>\n",
       "    <meta charset=\"UTF-8\">\n",
       "    <title>Flower</title>\n",
       "    <link rel=\"stylesheet\" href=\"./style.css\">\n",
       "    <script type=\"text/javascript\" src=\"./node_modules/paper/dist/paper-full.js\"></script>\n",
       "    <script type=\"text/javascript\" canvas=\"canvas\" src=\"./mandala_utils.js\"></script>\n",
       "    \n",
       "    <script type=\"text/javascript\">\n",
       "    console.log(\"1\");\n",
       "    paper.install(window);\n",
       "    window.onload = function() {\n",
       "        paper.setup('canvas');\n",
       "        console.log(view.center);\n",
       "        var layer = project.activeLayer;\n",
       "\n",
       "        make_flower(layer);\n",
       "        pie = generate_piece();\n",
       "        console.log(\"~~\")\n",
       "        console.log(pie);\n",
       "        // project.activeLayer.addChild(pie);\n",
       "\n",
       "        function onResize(event) {\n",
       "            layer.position = view.center;\n",
       "        }\n",
       "    }\n",
       "\n",
       "    </script>\n",
       "</head>\n",
       "<body>\n",
       "    <canvas id=\"canvas\" resize stats hidpi=\"off\"></canvas>\n",
       "</body>\n",
       "</html>\n"
      ]
     },
     "execution_count": 5,
     "metadata": {},
     "output_type": "execute_result"
    }
   ],
   "source": [
    "$$.html(`<html>\n",
    "<head>\n",
    "    <meta charset=\"UTF-8\">\n",
    "    <title>Flower</title>\n",
    "    <link rel=\"stylesheet\" href=\"./style.css\">\n",
    "    <script type=\"text/javascript\" src=\"./node_modules/paper/dist/paper-full.js\"></script>\n",
    "    <script type=\"text/javascript\" canvas=\"canvas\" src=\"./mandala_utils.js\"></script>\n",
    "    \n",
    "    <script type=\"text/javascript\">\n",
    "    console.log(\"1\");\n",
    "    paper.install(window);\n",
    "    window.onload = function() {\n",
    "        paper.setup('canvas');\n",
    "        console.log(view.center);\n",
    "        var layer = project.activeLayer;\n",
    "\n",
    "        make_flower(layer);\n",
    "        pie = generate_piece();\n",
    "        console.log(\"~~\")\n",
    "        console.log(pie);\n",
    "        // project.activeLayer.addChild(pie);\n",
    "\n",
    "        function onResize(event) {\n",
    "            layer.position = view.center;\n",
    "        }\n",
    "    }\n",
    "\n",
    "    </script>\n",
    "</head>\n",
    "<body>\n",
    "    <canvas id=\"canvas\" resize stats hidpi=\"off\"></canvas>\n",
    "</body>\n",
    "</html>\n",
    "`);"
   ]
  },
  {
   "cell_type": "code",
   "execution_count": 6,
   "metadata": {},
   "outputs": [
    {
     "ename": "ReferenceError",
     "evalue": "document is not defined",
     "output_type": "error",
     "traceback": [
      "evalmachine.<anonymous>:1",
      "document.getElementById(\"canvas\")",
      "^",
      "",
      "ReferenceError: document is not defined",
      "    at evalmachine.<anonymous>:1:1",
      "    at Script.runInThisContext (vm.js:96:20)",
      "    at Object.runInThisContext (vm.js:303:38)",
      "    at run ([eval]:1054:15)",
      "    at onRunRequest ([eval]:888:18)",
      "    at onMessage ([eval]:848:13)",
      "    at process.emit (events.js:182:13)",
      "    at emit (internal/child_process.js:812:12)",
      "    at process._tickCallback (internal/process/next_tick.js:63:19)"
     ]
    }
   ],
   "source": [
    "document.getElementById(\"canvas\")"
   ]
  },
  {
   "cell_type": "code",
   "execution_count": 7,
   "metadata": {},
   "outputs": [
    {
     "name": "stdout",
     "output_type": "stream",
     "text": [
      "cat\n"
     ]
    }
   ],
   "source": [
    "console.log(\"cat\")"
   ]
  },
  {
   "cell_type": "code",
   "execution_count": 9,
   "metadata": {},
   "outputs": [
    {
     "ename": "SyntaxError",
     "evalue": "Unexpected token {",
     "output_type": "error",
     "traceback": [
      "evalmachine.<anonymous>:1",
      "import { hello } from './module.mjs';",
      "       ^",
      "",
      "SyntaxError: Unexpected token {",
      "    at new Script (vm.js:79:7)",
      "    at createScript (vm.js:251:10)",
      "    at Object.runInThisContext (vm.js:303:10)",
      "    at run ([eval]:1054:15)",
      "    at onRunRequest ([eval]:888:18)",
      "    at onMessage ([eval]:848:13)",
      "    at process.emit (events.js:182:13)",
      "    at emit (internal/child_process.js:812:12)",
      "    at process._tickCallback (internal/process/next_tick.js:63:19)"
     ]
    }
   ],
   "source": [
    "import { hello } from './module.mjs';"
   ]
  },
  {
   "cell_type": "code",
   "execution_count": null,
   "metadata": {},
   "outputs": [],
   "source": []
  }
 ],
 "metadata": {
  "kernelspec": {
   "display_name": "Javascript (Node.js)",
   "language": "javascript",
   "name": "javascript"
  },
  "language_info": {
   "file_extension": ".js",
   "mimetype": "application/javascript",
   "name": "javascript",
   "version": "10.11.0"
  }
 },
 "nbformat": 4,
 "nbformat_minor": 2
}
